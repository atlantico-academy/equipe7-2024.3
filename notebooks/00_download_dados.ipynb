{
 "cells": [
  {
   "cell_type": "code",
   "execution_count": 1,
   "id": "781abab9-46a8-4636-88a5-22a88b96f478",
   "metadata": {},
   "outputs": [],
   "source": [
    "import pandas as pd "
   ]
  },
  {
   "cell_type": "code",
   "execution_count": 2,
   "id": "e938fe1e-b4c5-432c-a2fc-996bf7b92857",
   "metadata": {},
   "outputs": [],
   "source": [
    "df = pd.read_csv(\"../data/raw/ObesityDataSet_raw_and_data_sinthetic.csv\")\n",
    "df = df.to_csv('../data/raw/data.csv', index=False)"
   ]
  },
  {
   "cell_type": "code",
   "execution_count": 3,
   "id": "7b622638-7ac2-4ca5-a81b-3651dcc080cd",
   "metadata": {},
   "outputs": [],
   "source": [
    "#criação do dicionario\n",
    "\n",
    "data_dictionary = pd.DataFrame([\n",
    "    {\n",
    "        'variavel': 'age',\n",
    "        'descrição': 'Idade do indivíduo',\n",
    "        'tipo': 'Quantitativa',\n",
    "        'subtipo': 'Discreta',\n",
    "    },\n",
    "    {\n",
    "        'variavel': 'gender',\n",
    "        'descrição': 'Sexo do indivíduo',\n",
    "        'tipo': 'Qualitativa',\n",
    "        'subtipo': 'Nominal',\n",
    "    },\n",
    "    {\n",
    "        'variavel': 'bmi',\n",
    "        'descrição': 'Índice de Massa Corporal',\n",
    "        'tipo': 'Quantitativa',\n",
    "        'subtipo': 'Contínua',\n",
    "    },\n",
    "    {\n",
    "        'variavel': 'physical_activity_level',\n",
    "        'descrição': 'Nível de atividade física',\n",
    "        'tipo': 'Qualitativa',\n",
    "        'subtipo': 'Ordinal',\n",
    "    },\n",
    "    {\n",
    "        'variavel': 'daily_calorie_intake',\n",
    "        'descrição': 'Ingestão diária de calorias (kcal)',\n",
    "        'tipo': 'Quantitativa',\n",
    "        'subtipo': 'Contínua',\n",
    "    },\n",
    "    {\n",
    "        'variavel': 'diet_type',\n",
    "        'descrição': 'Tipo de dieta seguida pelo indivíduo',\n",
    "        'tipo': 'Qualitativa',\n",
    "        'subtipo': 'Nominal',\n",
    "    },\n",
    "    {\n",
    "        'variavel': 'family_history_obesity',\n",
    "        'descrição': 'Histórico familiar de obesidade',\n",
    "        'tipo': 'Qualitativa',\n",
    "        'subtipo': 'Nominal',\n",
    "    },\n",
    "    {\n",
    "        'variavel': 'hypertension',\n",
    "        'descrição': 'Presença de hipertensão',\n",
    "        'tipo': 'Qualitativa',\n",
    "        'subtipo': 'Nominal',\n",
    "    },\n",
    "    {\n",
    "        'variavel': 'diabetes',\n",
    "        'descrição': 'Presença de diabetes',\n",
    "        'tipo': 'Qualitativa',\n",
    "        'subtipo': 'Nominal',\n",
    "    },\n",
    "    {\n",
    "        'variavel': 'stress_level',\n",
    "        'descrição': 'Nível de estresse do indivíduo',\n",
    "        'tipo': 'Qualitativa',\n",
    "        'subtipo': 'Ordinal',\n",
    "    },\n",
    "    {\n",
    "        'variavel': 'sleep_duration',\n",
    "        'descrição': 'Duração média do sono (horas por noite)',\n",
    "        'tipo': 'Quantitativa',\n",
    "        'subtipo': 'Contínua',\n",
    "    },\n",
    "    {\n",
    "        'variavel': 'obesity_level',\n",
    "        'descrição': 'Classificação do nível de obesidade',\n",
    "        'tipo': 'Qualitativa',\n",
    "        'subtipo': 'Ordinal',\n",
    "    },\n",
    "])\n"
   ]
  },
  {
   "cell_type": "code",
   "execution_count": 4,
   "id": "e48e8cd2-27fa-47f2-bfd5-db3272da69bf",
   "metadata": {},
   "outputs": [],
   "source": [
    "#salvar\n",
    "data_dictionary.to_csv(\"../data/external/dicionario.csv\")"
   ]
  }
 ],
 "metadata": {
  "kernelspec": {
   "display_name": "Python 3 (ipykernel)",
   "language": "python",
   "name": "python3"
  },
  "language_info": {
   "codemirror_mode": {
    "name": "ipython",
    "version": 3
   },
   "file_extension": ".py",
   "mimetype": "text/x-python",
   "name": "python",
   "nbconvert_exporter": "python",
   "pygments_lexer": "ipython3",
   "version": "3.10.11"
  }
 },
 "nbformat": 4,
 "nbformat_minor": 5
}
